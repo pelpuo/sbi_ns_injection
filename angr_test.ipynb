{
 "cells": [
  {
   "cell_type": "code",
   "execution_count": 40,
   "metadata": {},
   "outputs": [],
   "source": [
    "import angr"
   ]
  },
  {
   "cell_type": "code",
   "execution_count": 50,
   "metadata": {},
   "outputs": [],
   "source": [
    "proj = angr.Project('./testbin', auto_load_libs=False, arch=\"x86_64\")"
   ]
  },
  {
   "cell_type": "code",
   "execution_count": 42,
   "metadata": {},
   "outputs": [
    {
     "data": {
      "text/plain": [
       "<Arch RISCV64 (LE)>"
      ]
     },
     "execution_count": 42,
     "metadata": {},
     "output_type": "execute_result"
    }
   ],
   "source": [
    "proj.arch"
   ]
  },
  {
   "cell_type": "code",
   "execution_count": 43,
   "metadata": {},
   "outputs": [
    {
     "data": {
      "text/plain": [
       "65740"
      ]
     },
     "execution_count": 43,
     "metadata": {},
     "output_type": "execute_result"
    }
   ],
   "source": [
    "proj.entry"
   ]
  },
  {
   "cell_type": "code",
   "execution_count": 44,
   "metadata": {},
   "outputs": [
    {
     "data": {
      "text/plain": [
       "<ELF Object testbin, maps [0x10000:0x1565f]>"
      ]
     },
     "execution_count": 44,
     "metadata": {},
     "output_type": "execute_result"
    }
   ],
   "source": [
    "proj.loader.main_object"
   ]
  },
  {
   "cell_type": "code",
   "execution_count": 45,
   "metadata": {},
   "outputs": [],
   "source": [
    "block = proj.factory.block(proj.entry)"
   ]
  },
  {
   "cell_type": "code",
   "execution_count": 46,
   "metadata": {},
   "outputs": [
    {
     "name": "stdout",
     "output_type": "stream",
     "text": [
      "       _start:\n",
      "100cc  auipc   gp, 0x5\n",
      "100d0  addi    gp, gp, -0x26c\n",
      "100d4  addi    a0, gp, 0x778\n",
      "100d8  auipc   a2, 0x5\n",
      "100dc  addi    a2, a2, 0x588\n",
      "100e0  sub     a2, a2, a0\n",
      "100e4  mv      a1, zero\n",
      "100e8  jal     0x1a8\n"
     ]
    }
   ],
   "source": [
    "block.pp()"
   ]
  },
  {
   "cell_type": "code",
   "execution_count": 47,
   "metadata": {},
   "outputs": [
    {
     "data": {
      "text/plain": [
       "<DisassemblerBlock for 0x100cc>"
      ]
     },
     "execution_count": 47,
     "metadata": {},
     "output_type": "execute_result"
    }
   ],
   "source": [
    "block.capstone"
   ]
  },
  {
   "cell_type": "code",
   "execution_count": 48,
   "metadata": {},
   "outputs": [],
   "source": [
    "state = proj.factory.entry_state()"
   ]
  },
  {
   "cell_type": "code",
   "execution_count": 51,
   "metadata": {},
   "outputs": [
    {
     "name": "stderr",
     "output_type": "stream",
     "text": [
      "ERROR    | 2025-04-01 10:54:04,462 | angr.analyses.fcp.fcp.SimEngineFCPVEX | Unsupported Dirty amd64g_dirtyhelper_CPUID_avx2.\n",
      "WARNING  | 2025-04-01 10:54:05,501 | angr.analyses.cfg.indirect_jump_resolvers.jumptable.JumpTableProcessor | Unsupported Binop Iop_ExpCmpNE64.\n",
      "ERROR    | 2025-04-01 10:54:05,502 | angr.analyses.cfg.indirect_jump_resolvers.jumptable.JumpTableProcessor | Unsupported Unop Iop_Ctz64.\n",
      "ERROR    | 2025-04-01 10:54:05,503 | angr.analyses.cfg.indirect_jump_resolvers.jumptable.JumpTableProcessor | Unsupported Unop Iop_GetMSBs8x16.\n",
      "WARNING  | 2025-04-01 10:54:05,506 | angr.analyses.cfg.indirect_jump_resolvers.jumptable.JumpTableProcessor | Unsupported Binop Iop_Min8Ux16.\n",
      "ERROR    | 2025-04-01 10:54:06,330 | angr.analyses.fcp.fcp.SimEngineFCPVEX | Unsupported Dirty amd64g_dirtyhelper_loadF80le.\n",
      "ERROR    | 2025-04-01 10:54:06,330 | angr.analyses.fcp.fcp.SimEngineFCPVEX | Unsupported Dirty amd64g_dirtyhelper_storeF80le.\n",
      "ERROR    | 2025-04-01 10:54:09,872 | angr.analyses.fcp.fcp.SimEngineFCPVEX | Unsupported Dirty amd64g_dirtyhelper_XSAVE_COMPONENT_0.\n",
      "ERROR    | 2025-04-01 10:54:09,872 | angr.analyses.fcp.fcp.SimEngineFCPVEX | Unsupported Dirty amd64g_dirtyhelper_XSAVE_COMPONENT_1_EXCLUDING_XMMREGS.\n",
      "ERROR    | 2025-04-01 10:54:09,873 | angr.analyses.fcp.fcp.SimEngineFCPVEX | Unsupported Dirty amd64g_dirtyhelper_FINIT.\n",
      "ERROR    | 2025-04-01 10:54:09,873 | angr.analyses.fcp.fcp.SimEngineFCPVEX | Unsupported Dirty amd64g_dirtyhelper_XRSTOR_COMPONENT_0.\n",
      "ERROR    | 2025-04-01 10:54:09,873 | angr.analyses.fcp.fcp.SimEngineFCPVEX | Unsupported Dirty amd64g_dirtyhelper_XRSTOR_COMPONENT_1_EXCLUDING_XMMREGS.\n",
      "ERROR    | 2025-04-01 10:54:17,138 | angr.analyses.fcp.fcp.SimEngineFCPVEX | Unsupported Dirty amd64g_dirtyhelper_PCMPxSTRx.\n"
     ]
    },
    {
     "data": {
      "text/plain": [
       "<CFGFast Analysis Result at 0x7f8c0d83c590>"
      ]
     },
     "execution_count": 51,
     "metadata": {},
     "output_type": "execute_result"
    }
   ],
   "source": [
    "proj.analyses.CFGFast()"
   ]
  },
  {
   "cell_type": "code",
   "execution_count": null,
   "metadata": {},
   "outputs": [],
   "source": []
  }
 ],
 "metadata": {
  "kernelspec": {
   "display_name": "base",
   "language": "python",
   "name": "python3"
  },
  "language_info": {
   "codemirror_mode": {
    "name": "ipython",
    "version": 3
   },
   "file_extension": ".py",
   "mimetype": "text/x-python",
   "name": "python",
   "nbconvert_exporter": "python",
   "pygments_lexer": "ipython3",
   "version": "3.12.7"
  }
 },
 "nbformat": 4,
 "nbformat_minor": 2
}
