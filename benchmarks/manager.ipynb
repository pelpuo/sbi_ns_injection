{
 "cells": [
  {
   "cell_type": "code",
   "execution_count": 6,
   "metadata": {},
   "outputs": [],
   "source": [
    "import os\n",
    "import subprocess"
   ]
  },
  {
   "cell_type": "code",
   "execution_count": 13,
   "metadata": {},
   "outputs": [
    {
     "name": "stdout",
     "output_type": "stream",
     "text": [
      "Compiling ./spatial_safety/hbo_char_array.c -> ./bin/hbo_char_array\n",
      "Compiling ./spatial_safety/hbo_struct_array.c -> ./bin/hbo_struct_array\n",
      "Compiling ./spatial_safety/ip_large_size.c -> ./bin/ip_large_size\n",
      "Compiling ./spatial_safety/oobr_char_to_int_conversion_advanced.c -> ./bin/oobr_char_to_int_conversion_advanced\n",
      "Compiling ./spatial_safety/oobr_direct_index_integer.c -> ./bin/oobr_direct_index_integer\n",
      "Compiling ./spatial_safety/oobr_direct_index_string.c -> ./bin/oobr_direct_index_string\n",
      "Compiling ./spatial_safety/oobr_do_while.c -> ./bin/oobr_do_while\n",
      "Compiling ./spatial_safety/oobr_heap_underrread.c -> ./bin/oobr_heap_underrread\n",
      "Compiling ./spatial_safety/oobr_int_read.c -> ./bin/oobr_int_read\n"
     ]
    },
    {
     "name": "stderr",
     "output_type": "stream",
     "text": [
      "./spatial_safety/hbo_struct_array.c: In function ‘main’:\n",
      "./spatial_safety/hbo_struct_array.c:65:25: warning: initializer-string for array of ‘char’ is too long\n",
      "   65 |     Record newRecord = {\"aalkdaweouiadfkajdfkjafdkjafauweqaajh\", 9999};\n",
      "      |                         ^~~~~~~~~~~~~~~~~~~~~~~~~~~~~~~~~~~~~~~\n",
      "./spatial_safety/hbo_struct_array.c:65:25: note: (near initialization for ‘newRecord.name’)\n"
     ]
    },
    {
     "name": "stdout",
     "output_type": "stream",
     "text": [
      "Compiling ./spatial_safety/oobr_less_or_equal_in_for_loop.c -> ./bin/oobr_less_or_equal_in_for_loop\n",
      "Compiling ./spatial_safety/oobr_long_read.c -> ./bin/oobr_long_read\n",
      "Compiling ./spatial_safety/oobr_negative_array_index.c -> ./bin/oobr_negative_array_index\n",
      "Compiling ./spatial_safety/oobr_off_by_one_mat.c -> ./bin/oobr_off_by_one_mat\n",
      "Compiling ./spatial_safety/oobr_off_by_one_mat_str.c -> ./bin/oobr_off_by_one_mat_str\n",
      "Compiling ./spatial_safety/oobr_overflow_into_adjacent_mem.c -> ./bin/oobr_overflow_into_adjacent_mem\n",
      "Compiling ./spatial_safety/oobr_using_for_loop.c -> ./bin/oobr_using_for_loop\n",
      "Compiling ./spatial_safety/oobw_char_to_int_conversion_advanced.c -> ./bin/oobw_char_to_int_conversion_advanced\n",
      "Compiling ./spatial_safety/oobw_char_to_int_conversion_basic.c -> ./bin/oobw_char_to_int_conversion_basic\n",
      "Compiling ./spatial_safety/oobw_direct_index_integer.c -> ./bin/oobw_direct_index_integer\n",
      "Compiling ./spatial_safety/oobw_direct_index_integer_long_write.c -> ./bin/oobw_direct_index_integer_long_write\n",
      "Compiling ./spatial_safety/oobw_direct_index_int_heap.c -> ./bin/oobw_direct_index_int_heap\n",
      "Compiling ./spatial_safety/oobw_direct_index_string.c -> ./bin/oobw_direct_index_string\n",
      "Compiling ./spatial_safety/oobw_direct_index_string_heap.c -> ./bin/oobw_direct_index_string_heap\n",
      "Compiling ./spatial_safety/oobw_direct_index_string_heap_long.c -> ./bin/oobw_direct_index_string_heap_long\n",
      "Compiling ./spatial_safety/oobw_do_while.c -> ./bin/oobw_do_while\n",
      "Compiling ./spatial_safety/oobw_edit_chunk_size.c -> ./bin/oobw_edit_chunk_size\n",
      "Compiling ./spatial_safety/oobw_int_write.c -> ./bin/oobw_int_write\n",
      "Compiling ./spatial_safety/oobw_long_write.c -> ./bin/oobw_long_write\n",
      "Compiling ./spatial_safety/oobw_negative_array_index.c -> ./bin/oobw_negative_array_index\n",
      "Compiling ./spatial_safety/oobw_no_null_terminator.c -> ./bin/oobw_no_null_terminator\n",
      "Compiling ./spatial_safety/oobw_off_by_one.c -> ./bin/oobw_off_by_one\n",
      "Compiling ./spatial_safety/oobw_off_by_one_mat_str.c -> ./bin/oobw_off_by_one_mat_str\n",
      "Compiling ./spatial_safety/oobw_using_for_loop.c -> ./bin/oobw_using_for_loop\n",
      "Compiling ./spatial_safety/sbo_double_buffer_in_struct.c -> ./bin/sbo_double_buffer_in_struct\n",
      "Compiling ./spatial_safety/sbo_int_buffer_in_struct.c -> ./bin/sbo_int_buffer_in_struct\n",
      "Compiling ./spatial_safety/sbo_struct_array.c -> ./bin/sbo_struct_array\n",
      "Compiling ./spatial_safety/type_conf_overflow.c -> ./bin/type_conf_overflow\n",
      "Compiling ./spatial_safety/type_conf_underflow.c -> ./bin/type_conf_underflow\n",
      "Compiling ./temporal_safety/df_editing_size.c -> ./bin/df_editing_size\n",
      "Compiling ./temporal_safety/df_nonadjacent_free.c -> ./bin/df_nonadjacent_free\n",
      "Compiling ./temporal_safety/df_overwriting_free.c -> ./bin/df_overwriting_free\n",
      "Compiling ./temporal_safety/df_switch_statements.c -> ./bin/df_switch_statements\n",
      "Compiling ./temporal_safety/df_with_oobw.c -> ./bin/df_with_oobw\n",
      "Compiling ./temporal_safety/hm_fake_chunk_malloc.c -> ./bin/hm_fake_chunk_malloc\n",
      "Compiling ./temporal_safety/hm_house_of_spirit.c -> ./bin/hm_house_of_spirit\n",
      "Compiling ./temporal_safety/hm_parent_and_child_chunk.c -> ./bin/hm_parent_and_child_chunk\n",
      "Compiling ./temporal_safety/uaf_function_pointer.c -> ./bin/uaf_function_pointer\n",
      "Compiling ./temporal_safety/uaf_if_statement.c -> ./bin/uaf_if_statement\n",
      "Compiling ./temporal_safety/uaf_memcpy.c -> ./bin/uaf_memcpy\n",
      "Compiling ./temporal_safety/uaf_pointer_assignment.c -> ./bin/uaf_pointer_assignment\n",
      "Compiling ./temporal_safety/uaf_wrong_branching.c -> ./bin/uaf_wrong_branching\n",
      "Compilation completed. Output stored in ./bin.\n"
     ]
    },
    {
     "data": {
      "text/plain": [
       "CompletedProcess(args=['./compile.sh'], returncode=0)"
      ]
     },
     "execution_count": 13,
     "metadata": {},
     "output_type": "execute_result"
    }
   ],
   "source": [
    "# Run the compile script\n",
    "subprocess.run(['./compile.sh'], check=True)"
   ]
  },
  {
   "cell_type": "code",
   "execution_count": 15,
   "metadata": {},
   "outputs": [
    {
     "name": "stdout",
     "output_type": "stream",
     "text": [
      "lifting ./bin/df_editing_size -> ./lifted/df_editing_size.ll\n",
      "lifting ./bin/df_nonadjacent_free -> ./lifted/df_nonadjacent_free.ll\n",
      "lifting ./bin/df_overwriting_free -> ./lifted/df_overwriting_free.ll\n",
      "lifting ./bin/df_switch_statements -> ./lifted/df_switch_statements.ll\n",
      "lifting ./bin/df_with_oobw -> ./lifted/df_with_oobw.ll\n",
      "lifting ./bin/hbo_char_array -> ./lifted/hbo_char_array.ll\n",
      "lifting ./bin/hbo_struct_array -> ./lifted/hbo_struct_array.ll\n",
      "lifting ./bin/hm_fake_chunk_malloc -> ./lifted/hm_fake_chunk_malloc.ll\n",
      "lifting ./bin/hm_house_of_spirit -> ./lifted/hm_house_of_spirit.ll\n"
     ]
    },
    {
     "name": "stderr",
     "output_type": "stream",
     "text": [
      "Unknown prototype for function : __stack_chk_fail\n",
      "Use -I </full/path/to/file>, where /full/path/to/file declares its prototype\n",
      "Unknown prototype for function : __stack_chk_fail\n",
      "Use -I </full/path/to/file>, where /full/path/to/file declares its prototype\n",
      "Unknown prototype for function : __stack_chk_fail\n",
      "Use -I </full/path/to/file>, where /full/path/to/file declares its prototype\n",
      "Unknown prototype for function : __stack_chk_fail\n",
      "Use -I </full/path/to/file>, where /full/path/to/file declares its prototype\n"
     ]
    },
    {
     "name": "stdout",
     "output_type": "stream",
     "text": [
      "lifting ./bin/hm_parent_and_child_chunk -> ./lifted/hm_parent_and_child_chunk.ll\n",
      "lifting ./bin/ip_large_size -> ./lifted/ip_large_size.ll\n",
      "lifting ./bin/oobr_char_to_int_conversion_advanced -> ./lifted/oobr_char_to_int_conversion_advanced.ll\n",
      "lifting ./bin/oobr_direct_index_integer -> ./lifted/oobr_direct_index_integer.ll\n",
      "lifting ./bin/oobr_direct_index_string -> ./lifted/oobr_direct_index_string.ll\n",
      "lifting ./bin/oobr_do_while -> ./lifted/oobr_do_while.ll\n",
      "lifting ./bin/oobr_heap_underrread -> ./lifted/oobr_heap_underrread.ll\n",
      "lifting ./bin/oobr_int_read -> ./lifted/oobr_int_read.ll\n",
      "lifting ./bin/oobr_less_or_equal_in_for_loop -> ./lifted/oobr_less_or_equal_in_for_loop.ll\n",
      "lifting ./bin/oobr_long_read -> ./lifted/oobr_long_read.ll\n",
      "lifting ./bin/oobr_negative_array_index -> ./lifted/oobr_negative_array_index.ll\n"
     ]
    },
    {
     "name": "stderr",
     "output_type": "stream",
     "text": [
      "Unknown prototype for function : __stack_chk_fail\n",
      "Use -I </full/path/to/file>, where /full/path/to/file declares its prototype\n",
      "Unknown prototype for function : __stack_chk_fail\n",
      "Use -I </full/path/to/file>, where /full/path/to/file declares its prototype\n",
      "Unknown prototype for function : __stack_chk_fail\n",
      "Use -I </full/path/to/file>, where /full/path/to/file declares its prototype\n",
      "Unknown prototype for function : __stack_chk_fail\n",
      "Use -I </full/path/to/file>, where /full/path/to/file declares its prototype\n",
      "Unknown prototype for function : __stack_chk_fail\n",
      "Use -I </full/path/to/file>, where /full/path/to/file declares its prototype\n",
      "Unknown prototype for function : __stack_chk_fail\n",
      "Use -I </full/path/to/file>, where /full/path/to/file declares its prototype\n",
      "Unknown prototype for function : __stack_chk_fail\n",
      "Use -I </full/path/to/file>, where /full/path/to/file declares its prototype\n",
      "Unknown prototype for function : __stack_chk_fail\n",
      "Use -I </full/path/to/file>, where /full/path/to/file declares its prototype\n",
      "Unknown prototype for function : __stack_chk_fail\n",
      "Use -I </full/path/to/file>, where /full/path/to/file declares its prototype\n"
     ]
    },
    {
     "name": "stdout",
     "output_type": "stream",
     "text": [
      "lifting ./bin/oobr_off_by_one_mat -> ./lifted/oobr_off_by_one_mat.ll\n",
      "lifting ./bin/oobr_off_by_one_mat_str -> ./lifted/oobr_off_by_one_mat_str.ll\n",
      "lifting ./bin/oobr_overflow_into_adjacent_mem -> ./lifted/oobr_overflow_into_adjacent_mem.ll\n",
      "lifting ./bin/oobr_using_for_loop -> ./lifted/oobr_using_for_loop.ll\n",
      "lifting ./bin/oobw_char_to_int_conversion_advanced -> ./lifted/oobw_char_to_int_conversion_advanced.ll\n",
      "lifting ./bin/oobw_char_to_int_conversion_basic -> ./lifted/oobw_char_to_int_conversion_basic.ll\n",
      "lifting ./bin/oobw_direct_index_integer -> ./lifted/oobw_direct_index_integer.ll\n",
      "lifting ./bin/oobw_direct_index_integer_long_write -> ./lifted/oobw_direct_index_integer_long_write.ll\n",
      "lifting ./bin/oobw_direct_index_int_heap -> ./lifted/oobw_direct_index_int_heap.ll\n",
      "lifting ./bin/oobw_direct_index_string -> ./lifted/oobw_direct_index_string.ll\n",
      "lifting ./bin/oobw_direct_index_string_heap -> ./lifted/oobw_direct_index_string_heap.ll\n"
     ]
    },
    {
     "name": "stderr",
     "output_type": "stream",
     "text": [
      "Unknown prototype for function : __stack_chk_fail\n",
      "Use -I </full/path/to/file>, where /full/path/to/file declares its prototype\n",
      "Unknown prototype for function : __stack_chk_fail\n",
      "Use -I </full/path/to/file>, where /full/path/to/file declares its prototype\n",
      "Unknown prototype for function : __stack_chk_fail\n",
      "Use -I </full/path/to/file>, where /full/path/to/file declares its prototype\n",
      "Unknown prototype for function : __stack_chk_fail\n",
      "Use -I </full/path/to/file>, where /full/path/to/file declares its prototype\n",
      "Unknown prototype for function : __stack_chk_fail\n",
      "Use -I </full/path/to/file>, where /full/path/to/file declares its prototype\n",
      "Unknown prototype for function : __stack_chk_fail\n",
      "Use -I </full/path/to/file>, where /full/path/to/file declares its prototype\n",
      "Unknown prototype for function : __stack_chk_fail\n",
      "Use -I </full/path/to/file>, where /full/path/to/file declares its prototype\n",
      "Unknown prototype for function : __stack_chk_fail\n",
      "Use -I </full/path/to/file>, where /full/path/to/file declares its prototype\n"
     ]
    },
    {
     "name": "stdout",
     "output_type": "stream",
     "text": [
      "lifting ./bin/oobw_direct_index_string_heap_long -> ./lifted/oobw_direct_index_string_heap_long.ll\n",
      "lifting ./bin/oobw_do_while -> ./lifted/oobw_do_while.ll\n",
      "lifting ./bin/oobw_edit_chunk_size -> ./lifted/oobw_edit_chunk_size.ll\n",
      "lifting ./bin/oobw_int_write -> ./lifted/oobw_int_write.ll\n",
      "lifting ./bin/oobw_long_write -> ./lifted/oobw_long_write.ll\n",
      "lifting ./bin/oobw_negative_array_index -> ./lifted/oobw_negative_array_index.ll\n",
      "lifting ./bin/oobw_no_null_terminator -> ./lifted/oobw_no_null_terminator.ll\n",
      "lifting ./bin/oobw_off_by_one -> ./lifted/oobw_off_by_one.ll\n",
      "lifting ./bin/oobw_off_by_one_mat_str -> ./lifted/oobw_off_by_one_mat_str.ll\n",
      "lifting ./bin/oobw_using_for_loop -> ./lifted/oobw_using_for_loop.ll\n",
      "lifting ./bin/sbo_double_buffer_in_struct -> ./lifted/sbo_double_buffer_in_struct.ll\n"
     ]
    },
    {
     "name": "stderr",
     "output_type": "stream",
     "text": [
      "Unknown prototype for function : __stack_chk_fail\n",
      "Use -I </full/path/to/file>, where /full/path/to/file declares its prototype\n",
      "Unknown prototype for function : __stack_chk_fail\n",
      "Use -I </full/path/to/file>, where /full/path/to/file declares its prototype\n",
      "Unknown prototype for function : __stack_chk_fail\n",
      "Use -I </full/path/to/file>, where /full/path/to/file declares its prototype\n",
      "Unknown prototype for function : __stack_chk_fail\n",
      "Use -I </full/path/to/file>, where /full/path/to/file declares its prototype\n"
     ]
    },
    {
     "name": "stdout",
     "output_type": "stream",
     "text": [
      "lifting ./bin/sbo_int_buffer_in_struct -> ./lifted/sbo_int_buffer_in_struct.ll\n",
      "lifting ./bin/sbo_struct_array -> ./lifted/sbo_struct_array.ll\n",
      "lifting ./bin/type_conf_overflow -> ./lifted/type_conf_overflow.ll\n",
      "lifting ./bin/type_conf_underflow -> ./lifted/type_conf_underflow.ll\n",
      "lifting ./bin/uaf_function_pointer -> ./lifted/uaf_function_pointer.ll\n",
      "lifting ./bin/uaf_if_statement -> ./lifted/uaf_if_statement.ll\n",
      "lifting ./bin/uaf_memcpy -> ./lifted/uaf_memcpy.ll\n",
      "lifting ./bin/uaf_pointer_assignment -> ./lifted/uaf_pointer_assignment.ll\n",
      "lifting ./bin/uaf_wrong_branching -> ./lifted/uaf_wrong_branching.ll\n",
      "Compilation completed. Output stored in ./lifted.\n"
     ]
    },
    {
     "data": {
      "text/plain": [
       "CompletedProcess(args=['./lift.sh'], returncode=0)"
      ]
     },
     "execution_count": 15,
     "metadata": {},
     "output_type": "execute_result"
    }
   ],
   "source": [
    "\n",
    "# Run the lift script\n",
    "subprocess.run(['./lift.sh'], check=True)"
   ]
  },
  {
   "cell_type": "code",
   "execution_count": 8,
   "metadata": {},
   "outputs": [
    {
     "name": "stdout",
     "output_type": "stream",
     "text": [
      "C files without equivalent .ll files:\n",
      "oobr_long_read\n",
      "oobr_using_for_loop\n",
      "oobw_do_while\n",
      "oobw_char_to_int_conversion_advanced\n",
      "sbo_struct_array\n",
      "oobw_long_write\n",
      "oobr_less_or_equal_in_for_loop\n",
      "oobw_off_by_one_mat_str\n",
      "oobr_off_by_one_mat_str\n",
      "oobw_off_by_one\n",
      "oobw_direct_index_string\n",
      "oobr_negative_array_index\n",
      "oobw_using_for_loop\n",
      "oobr_off_by_one_mat\n",
      "hbo_struct_array\n",
      "sbo_double_buffer_in_struct\n",
      "oobw_int_write\n",
      "oobw_direct_index_integer\n",
      "oobw_negative_array_index\n",
      "oobw_no_null_terminator\n",
      "oobr_int_read\n",
      "type_conf_overflow\n",
      "sbo_int_buffer_in_struct\n",
      "oobr_do_while\n",
      "oobw_char_to_int_conversion_basic\n",
      "oobr_direct_index_integer\n",
      "type_conf_underflow\n",
      "oobw_direct_index_integer_long_write\n",
      "uaf_function_pointer\n"
     ]
    }
   ],
   "source": [
    "# Collect .c files from spatial_safety and temporal_safety\n",
    "c_files = []\n",
    "for folder in ['./spatial_safety', './temporal_safety']:\n",
    "    for root, _, files in os.walk(folder):\n",
    "        c_files.extend([os.path.join(root, f) for f in files if f.endswith('.c')])\n",
    "\n",
    "# Collect .ll files from lifted\n",
    "ll_files = []\n",
    "for root, _, files in os.walk('./lifted'):\n",
    "    ll_files.extend([os.path.join(root, f) for f in files if f.endswith('.ll')])\n",
    "\n",
    "# Extract base names without extensions for comparison\n",
    "c_file_basenames = {os.path.splitext(os.path.basename(f))[0] for f in c_files}\n",
    "ll_file_basenames = {os.path.splitext(os.path.basename(f))[0] for f in ll_files}\n",
    "\n",
    "# Find .c files without equivalent .ll files\n",
    "missing_ll_files = c_file_basenames - ll_file_basenames\n",
    "\n",
    "print(\"C files without equivalent .ll files:\")\n",
    "for missing_file in missing_ll_files:\n",
    "    print(missing_file)"
   ]
  },
  {
   "cell_type": "code",
   "execution_count": null,
   "metadata": {},
   "outputs": [],
   "source": []
  }
 ],
 "metadata": {
  "kernelspec": {
   "display_name": "base",
   "language": "python",
   "name": "python3"
  },
  "language_info": {
   "codemirror_mode": {
    "name": "ipython",
    "version": 3
   },
   "file_extension": ".py",
   "mimetype": "text/x-python",
   "name": "python",
   "nbconvert_exporter": "python",
   "pygments_lexer": "ipython3",
   "version": "3.12.7"
  }
 },
 "nbformat": 4,
 "nbformat_minor": 2
}
